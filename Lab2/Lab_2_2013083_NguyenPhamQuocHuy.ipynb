{
  "nbformat": 4,
  "nbformat_minor": 0,
  "metadata": {
    "colab": {
      "provenance": [],
      "include_colab_link": true
    },
    "kernelspec": {
      "name": "python3",
      "display_name": "Python 3"
    },
    "language_info": {
      "name": "python"
    }
  },
  "cells": [
    {
      "cell_type": "markdown",
      "metadata": {
        "id": "view-in-github",
        "colab_type": "text"
      },
      "source": [
        "<a href=\"https://colab.research.google.com/github/NguyenPhamQuocHuy-20130283/20130283_NguyenPhamQuocHuy_ML2023/blob/main/Lab2/Lab_2_2013083_NguyenPhamQuocHuy.ipynb\" target=\"_parent\"><img src=\"https://colab.research.google.com/assets/colab-badge.svg\" alt=\"Open In Colab\"/></a>"
      ]
    },
    {
      "cell_type": "markdown",
      "source": [
        "# Lab #2\n",
        "This lab is the first step to get farmilliar with some common Machine Learning libraries, named ***Pandas*** and ***Matlotlib***. \n",
        "\n",
        "*   **Deadline: 23:59, 27/02/2023**\n",
        "\n"
      ],
      "metadata": {
        "id": "LMzehe0sy5wr"
      }
    },
    {
      "cell_type": "markdown",
      "source": [
        "#0. Mount Drive"
      ],
      "metadata": {
        "id": "Pck4yZk8KmyU"
      }
    },
    {
      "cell_type": "code",
      "source": [
        "from google.colab import drive\n",
        "drive.mount('/content/gdrive')\n",
        "%cd '/content/gdrive/MyDrive/Colab Notebooks'"
      ],
      "metadata": {
        "id": "4ETTY_7-Kox9",
        "colab": {
          "base_uri": "https://localhost:8080/"
        },
        "outputId": "37bad62c-36ea-4c2b-9991-f7cede9259af"
      },
      "execution_count": null,
      "outputs": [
        {
          "output_type": "stream",
          "name": "stdout",
          "text": [
            "Drive already mounted at /content/gdrive; to attempt to forcibly remount, call drive.mount(\"/content/gdrive\", force_remount=True).\n",
            "/content/gdrive/MyDrive/Colab Notebooks\n"
          ]
        }
      ]
    },
    {
      "cell_type": "markdown",
      "source": [
        "#1. Import libraries"
      ],
      "metadata": {
        "id": "H4nJmxp9zGX4"
      }
    },
    {
      "cell_type": "code",
      "execution_count": null,
      "metadata": {
        "id": "DoVWQ8AEyc-C"
      },
      "outputs": [],
      "source": [
        "import matplotlib.pyplot as plt\n",
        "import numpy as np\n",
        "import pandas as pd\n"
      ]
    },
    {
      "cell_type": "markdown",
      "source": [
        "#2. Load dataset\n",
        "\n",
        "*   Load dataset (named ***shopping-data.csv***) using ***read_csv*** from pandas\n",
        "*   Then, display 10 last examples\n"
      ],
      "metadata": {
        "id": "kNv07ARGzOUm"
      }
    },
    {
      "cell_type": "code",
      "source": [
        "dataset = pd.read_csv('shopping-data.csv')\n",
        "print(dataset.tail(10))"
      ],
      "metadata": {
        "id": "sOsg77IBzEyo",
        "colab": {
          "base_uri": "https://localhost:8080/"
        },
        "outputId": "adb8f2aa-1611-4cb5-abca-5f775ad3d3d4"
      },
      "execution_count": null,
      "outputs": [
        {
          "output_type": "stream",
          "name": "stdout",
          "text": [
            "     CustomerID   Genre  Age  Annual Income (k$)  Spending Score (1-100)\n",
            "190         191  Female   34                 103                      23\n",
            "191         192  Female   32                 103                      69\n",
            "192         193    Male   33                 113                       8\n",
            "193         194  Female   38                 113                      91\n",
            "194         195  Female   47                 120                      16\n",
            "195         196  Female   35                 120                      79\n",
            "196         197  Female   45                 126                      28\n",
            "197         198    Male   32                 126                      74\n",
            "198         199    Male   32                 137                      18\n",
            "199         200    Male   30                 137                      83\n"
          ]
        }
      ]
    },
    {
      "cell_type": "markdown",
      "source": [
        "#3. Show statistics of the given dataset "
      ],
      "metadata": {
        "id": "S43IoUT-0OQq"
      }
    },
    {
      "cell_type": "code",
      "source": [
        "print(dataset.describe())\n"
      ],
      "metadata": {
        "id": "_xhPpF5b033h",
        "colab": {
          "base_uri": "https://localhost:8080/"
        },
        "outputId": "82284666-a2d6-4ef6-d1b1-f7164ee2e1b9"
      },
      "execution_count": null,
      "outputs": [
        {
          "output_type": "stream",
          "name": "stdout",
          "text": [
            "       CustomerID         Age  Annual Income (k$)  Spending Score (1-100)\n",
            "count  200.000000  200.000000          200.000000              200.000000\n",
            "mean   100.500000   38.850000           60.560000               50.200000\n",
            "std     57.879185   13.969007           26.264721               25.823522\n",
            "min      1.000000   18.000000           15.000000                1.000000\n",
            "25%     50.750000   28.750000           41.500000               34.750000\n",
            "50%    100.500000   36.000000           61.500000               50.000000\n",
            "75%    150.250000   49.000000           78.000000               73.000000\n",
            "max    200.000000   70.000000          137.000000               99.000000\n"
          ]
        }
      ]
    },
    {
      "cell_type": "markdown",
      "source": [
        "#4. Sort dataset by ***Age*** "
      ],
      "metadata": {
        "id": "Rti2y0Wz2KY9"
      }
    },
    {
      "cell_type": "code",
      "source": [
        "print(dataset.sort_values(by='Age'))"
      ],
      "metadata": {
        "id": "13LkkfpS2ZUR",
        "colab": {
          "base_uri": "https://localhost:8080/"
        },
        "outputId": "ce8488ec-e0e0-45ac-ed49-8f5ba298fe46"
      },
      "execution_count": null,
      "outputs": [
        {
          "output_type": "stream",
          "name": "stdout",
          "text": [
            "     CustomerID   Genre  Age  Annual Income (k$)  Spending Score (1-100)\n",
            "114         115  Female   18                  65                      48\n",
            "91           92    Male   18                  59                      41\n",
            "65           66    Male   18                  48                      59\n",
            "33           34    Male   18                  33                      92\n",
            "0             1    Male   19                  15                      39\n",
            "..          ...     ...  ...                 ...                     ...\n",
            "90           91  Female   68                  59                      55\n",
            "108         109    Male   68                  63                      43\n",
            "57           58    Male   69                  44                      46\n",
            "70           71    Male   70                  49                      55\n",
            "60           61    Male   70                  46                      56\n",
            "\n",
            "[200 rows x 5 columns]\n"
          ]
        }
      ]
    },
    {
      "cell_type": "markdown",
      "source": [
        "#5. Group dataset by ***Gender*** and ***Age***"
      ],
      "metadata": {
        "id": "b52OPWPD2afi"
      }
    },
    {
      "cell_type": "code",
      "source": [
        "print(dataset.groupby(['Genre', 'Age']).groups)"
      ],
      "metadata": {
        "id": "Rw_-8FIf2KxW",
        "colab": {
          "base_uri": "https://localhost:8080/"
        },
        "outputId": "ec650e16-c9a8-4308-e697-2aa8f11f85a3"
      },
      "execution_count": null,
      "outputs": [
        {
          "output_type": "stream",
          "name": "stdout",
          "text": [
            "{('Female', 18): [114], ('Female', 19): [111, 115], ('Female', 20): [2, 39], ('Female', 21): [31, 35, 84, 105], ('Female', 22): [5, 87], ('Female', 23): [3, 7, 29, 78, 100, 124], ('Female', 24): [13, 45], ('Female', 25): [132], ('Female', 27): [47, 58, 97, 155], ('Female', 28): [142], ('Female', 29): [48, 135, 161, 183], ('Female', 30): [9, 37, 157, 159, 175], ('Female', 31): [4, 43, 49, 52, 125, 133, 163], ('Female', 32): [69, 94, 143, 147, 181, 191], ('Female', 33): [167], ('Female', 34): [88, 148, 190], ('Female', 35): [6, 11, 16, 19, 139, 195], ('Female', 36): [38, 165, 168, 189], ('Female', 37): [180], ('Female', 38): [112, 121, 153, 193], ('Female', 40): [28, 93, 122], ('Female', 41): [184, 188], ('Female', 42): [36], ('Female', 43): [66], ('Female', 44): [136, 152], ('Female', 45): [26, 76, 196], ('Female', 46): [22, 83], ('Female', 47): [71, 96, 154, 194], ('Female', 49): [34, 44, 50, 79, 101, 117], ('Female', 50): [46, 54, 89, 119], ('Female', 51): [56, 118], ('Female', 52): [174], ('Female', 54): [24, 63, 186], ('Female', 55): [86], ('Female', 56): [160], ('Female', 57): [140], ('Female', 58): [12], ('Female', 60): [72, 73], ('Female', 63): [116], ('Female', 65): [40], ('Female', 66): [106], ('Female', 67): [62], ('Female', 68): [67, 90], ('Male', 18): [33, 65, 91], ('Male', 19): [0, 61, 68, 113, 138, 162], ('Male', 20): [17, 99, 134], ('Male', 21): [1], ('Male', 22): [15], ('Male', 24): [41, 95], ('Male', 25): [21, 144], ('Male', 26): [75, 103], ('Male', 27): [120, 177], ('Male', 28): [145, 171, 187], ('Male', 29): [25], ('Male', 30): [185, 199], ('Male', 31): [23], ('Male', 32): [137, 141, 169, 197, 198], ('Male', 33): [51, 192], ('Male', 34): [149, 158], ('Male', 35): [20, 27, 179], ('Male', 36): [172, 173], ('Male', 37): [14, 156], ('Male', 38): [81, 129], ('Male', 39): [123, 131, 151], ('Male', 40): [77, 127, 170], ('Male', 42): [166], ('Male', 43): [126, 150], ('Male', 46): [182], ('Male', 47): [55, 130], ('Male', 48): [42, 85, 92, 98, 146], ('Male', 49): [104], ('Male', 50): [164], ('Male', 52): [18], ('Male', 53): [32, 59], ('Male', 54): [107], ('Male', 57): [80], ('Male', 58): [176], ('Male', 59): [53, 74, 128, 178], ('Male', 60): [30], ('Male', 63): [64], ('Male', 64): [8], ('Male', 65): [110], ('Male', 66): [109], ('Male', 67): [10, 82, 102], ('Male', 68): [108], ('Male', 69): [57], ('Male', 70): [60, 70]}\n"
          ]
        }
      ]
    },
    {
      "cell_type": "markdown",
      "source": [
        "#6. Use scatter plot to represent the relationship between ***Age*** and ***Annual Income***\n",
        "Rememer adding titles, xlabel, ylabel, ... to the plot"
      ],
      "metadata": {
        "id": "MVzSk4l505E0"
      }
    },
    {
      "cell_type": "code",
      "source": [
        "age_vals = dataset['Age']\n",
        "annual_vals = dataset['Annual Income (k$)']\n",
        "plt.scatter(age_vals, annual_vals, label= \"element\", color=\"red\", marker=\".\", s=30)\n",
        "plt.xlabel('Age') \n",
        "plt.ylabel('Annual Income') \n",
        "plt.title('Relationship between Age and Annual')\n",
        "plt.legend()\n",
        "plt.savefig('6.png')\n",
        "plt.show()"
      ],
      "metadata": {
        "id": "W_1v_ivR2f6D",
        "colab": {
          "base_uri": "https://localhost:8080/",
          "height": 295
        },
        "outputId": "a4c34bcb-5124-48bf-8f83-f59cc38c5199"
      },
      "execution_count": null,
      "outputs": [
        {
          "output_type": "display_data",
          "data": {
            "text/plain": [
              "<Figure size 432x288 with 1 Axes>"
            ],
            "image/png": "[encoded data removed]"
          },
          "metadata": {
            "needs_background": "light"
          }
        }
      ]
    },
    {
      "cell_type": "markdown",
      "source": [
        "#7. Use histogram plot to represent the distribution of ***Age***"
      ],
      "metadata": {
        "id": "oJwsJwj03iD_"
      }
    },
    {
      "cell_type": "code",
      "source": [
        "range = (10, 80) \n",
        "bins = 6\n",
        "plt.hist(age_vals, bins, range, color='green',histtype='bar',rwidth=0.8) \n",
        "plt.xlabel('age') \n",
        "plt.ylabel('No. of people') \n",
        "plt.title('The distribution of Age') \n",
        "plt.savefig('7.png')\n",
        "plt.show()\n"
      ],
      "metadata": {
        "id": "3KA4BgbB3tbs",
        "colab": {
          "base_uri": "https://localhost:8080/",
          "height": 295
        },
        "outputId": "83cd1353-8069-4a02-8741-5f411b60bd18"
      },
      "execution_count": null,
      "outputs": [
        {
          "output_type": "display_data",
          "data": {
            "text/plain": [
              "<Figure size 432x288 with 1 Axes>"
            ],
            "image/png": "[encoded data removed]"
          },
          "metadata": {
            "needs_background": "light"
          }
        }
      ]
    },
    {
      "cell_type": "markdown",
      "source": [
        "#8. Finally,\n",
        "Save a copy in your Github. Remember renaming the notebook."
      ],
      "metadata": {
        "id": "Ok7RGkea_b7n"
      }
    }
  ]
}